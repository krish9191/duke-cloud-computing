{
  "nbformat": 4,
  "nbformat_minor": 0,
  "metadata": {
    "colab": {
      "name": "Markdown_with_colab",
      "provenance": [],
      "authorship_tag": "ABX9TyPutNW+LWcXOJz3YHtyGEwb",
      "include_colab_link": true
    },
    "kernelspec": {
      "name": "python3",
      "display_name": "Python 3"
    },
    "language_info": {
      "name": "python"
    }
  },
  "cells": [
    {
      "cell_type": "markdown",
      "metadata": {
        "id": "view-in-github",
        "colab_type": "text"
      },
      "source": [
        "<a href=\"https://colab.research.google.com/github/krish9191/duke-cloud-computing/blob/main/Markdown_with_colab.ipynb\" target=\"_parent\"><img src=\"https://colab.research.google.com/assets/colab-badge.svg\" alt=\"Open In Colab\"/></a>"
      ]
    },
    {
      "cell_type": "code",
      "metadata": {
        "id": "8wP24lzis5SD"
      },
      "source": [
        "print(\"hello world\")"
      ],
      "execution_count": null,
      "outputs": []
    },
    {
      "cell_type": "markdown",
      "metadata": {
        "id": "LaSRbxk2gFkX"
      },
      "source": [
        "\n",
        "### print hello world\n",
        "\n",
        "**words will be printed**\n",
        "\n",
        "- hello\n",
        "- *world*\n",
        "\n",
        "#### code\n",
        "\n",
        "```python\n",
        "print(\"hello world\")\n",
        "```\n",
        "\n",
        "[this is a colab link](\"https://colab.research.google.com/drive/1Kj8NB2SaoVPWMO7x-cyZfvFJhCosTFSQ?usp=sharing\")\n",
        "\n",
        "\n"
      ]
    }
  ]
}